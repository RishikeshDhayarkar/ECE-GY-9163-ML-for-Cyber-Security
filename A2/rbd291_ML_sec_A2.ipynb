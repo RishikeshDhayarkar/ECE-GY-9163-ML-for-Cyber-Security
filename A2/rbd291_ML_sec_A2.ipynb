{
  "nbformat": 4,
  "nbformat_minor": 0,
  "metadata": {
    "colab": {
      "name": "ML_sec_A2.ipynb",
      "provenance": [],
      "collapsed_sections": []
    },
    "kernelspec": {
      "display_name": "Python 3",
      "name": "python3"
    }
  },
  "cells": [
    {
      "cell_type": "markdown",
      "metadata": {
        "id": "rX8mhOLljYeM"
      },
      "source": [
        "##### Copyright 2019 The TensorFlow Authors."
      ]
    },
    {
      "cell_type": "code",
      "metadata": {
        "cellView": "form",
        "id": "BZSlp3DAjdYf"
      },
      "source": [
        "#@title Licensed under the Apache License, Version 2.0 (the \"License\");\n",
        "# you may not use this file except in compliance with the License.\n",
        "# You may obtain a copy of the License at\n",
        "#\n",
        "# https://www.apache.org/licenses/LICENSE-2.0\n",
        "#\n",
        "# Unless required by applicable law or agreed to in writing, software\n",
        "# distributed under the License is distributed on an \"AS IS\" BASIS,\n",
        "# WITHOUT WARRANTIES OR CONDITIONS OF ANY KIND, either express or implied.\n",
        "# See the License for the specific language governing permissions and\n",
        "# limitations under the License."
      ],
      "execution_count": 1,
      "outputs": []
    },
    {
      "cell_type": "markdown",
      "metadata": {
        "id": "3wF5wszaj97Y"
      },
      "source": [
        "# TensorFlow 2 quickstart for beginners"
      ]
    },
    {
      "cell_type": "markdown",
      "metadata": {
        "id": "DUNzJc4jTj6G"
      },
      "source": [
        "<table class=\"tfo-notebook-buttons\" align=\"left\">\n",
        "  <td>\n",
        "    <a target=\"_blank\" href=\"https://www.tensorflow.org/tutorials/quickstart/beginner\"><img src=\"https://www.tensorflow.org/images/tf_logo_32px.png\" />View on TensorFlow.org</a>\n",
        "  </td>\n",
        "  <td>\n",
        "    <a target=\"_blank\" href=\"https://colab.research.google.com/github/tensorflow/docs/blob/master/site/en/tutorials/quickstart/beginner.ipynb\"><img src=\"https://www.tensorflow.org/images/colab_logo_32px.png\" />Run in Google Colab</a>\n",
        "  </td>\n",
        "  <td>\n",
        "    <a target=\"_blank\" href=\"https://github.com/tensorflow/docs/blob/master/site/en/tutorials/quickstart/beginner.ipynb\"><img src=\"https://www.tensorflow.org/images/GitHub-Mark-32px.png\" />View source on GitHub</a>\n",
        "  </td>\n",
        "  <td>\n",
        "    <a href=\"https://storage.googleapis.com/tensorflow_docs/docs/site/en/tutorials/quickstart/beginner.ipynb\"><img src=\"https://www.tensorflow.org/images/download_logo_32px.png\" />Download notebook</a>\n",
        "  </td>\n",
        "</table>"
      ]
    },
    {
      "cell_type": "markdown",
      "metadata": {
        "id": "04QgGZc9bF5D"
      },
      "source": [
        "This short introduction uses [Keras](https://www.tensorflow.org/guide/keras/overview) to:\n",
        "\n",
        "1. Build a neural network that classifies images.\n",
        "2. Train this neural network.\n",
        "3. And, finally, evaluate the accuracy of the model."
      ]
    },
    {
      "cell_type": "markdown",
      "metadata": {
        "id": "hiH7AC-NTniF"
      },
      "source": [
        "This is a [Google Colaboratory](https://colab.research.google.com/notebooks/welcome.ipynb) notebook file. Python programs are run directly in the browser—a great way to learn and use TensorFlow. To follow this tutorial, run the notebook in Google Colab by clicking the button at the top of this page.\n",
        "\n",
        "1. In Colab, connect to a Python runtime: At the top-right of the menu bar, select *CONNECT*.\n",
        "2. Run all the notebook code cells: Select *Runtime* > *Run all*."
      ]
    },
    {
      "cell_type": "markdown",
      "metadata": {
        "id": "nnrWf3PCEzXL"
      },
      "source": [
        "Download and install TensorFlow 2. Import TensorFlow into your program:\n",
        "\n",
        "Note: Upgrade `pip` to install the TensorFlow 2 package. See the [install guide](https://www.tensorflow.org/install) for details."
      ]
    },
    {
      "cell_type": "code",
      "metadata": {
        "id": "0trJmd6DjqBZ"
      },
      "source": [
        "import tensorflow as tf"
      ],
      "execution_count": 2,
      "outputs": []
    },
    {
      "cell_type": "markdown",
      "metadata": {
        "id": "7NAbSZiaoJ4z"
      },
      "source": [
        "Load and prepare the [MNIST dataset](http://yann.lecun.com/exdb/mnist/). Convert the samples from integers to floating-point numbers:"
      ]
    },
    {
      "cell_type": "code",
      "metadata": {
        "id": "xI1z5AdxknwG"
      },
      "source": [
        "import numpy as np"
      ],
      "execution_count": 3,
      "outputs": []
    },
    {
      "cell_type": "code",
      "metadata": {
        "id": "7FP5258xjs-v"
      },
      "source": [
        "mnist = tf.keras.datasets.mnist\n",
        "\n",
        "(x_train, y_train), (x_test, y_test) = mnist.load_data()\n",
        "x_train, x_test = x_train / 255.0, x_test / 255.0"
      ],
      "execution_count": 4,
      "outputs": []
    },
    {
      "cell_type": "markdown",
      "metadata": {
        "id": "BPZ68wASog_I"
      },
      "source": [
        "Build the `tf.keras.Sequential` model by stacking layers. Choose an optimizer and loss function for training:"
      ]
    },
    {
      "cell_type": "code",
      "metadata": {
        "id": "h3IKyzTCDNGo"
      },
      "source": [
        "model = tf.keras.models.Sequential([\n",
        "  tf.keras.layers.Flatten(input_shape=(28, 28)),\n",
        "  tf.keras.layers.Dense(128, activation='relu'),\n",
        "  tf.keras.layers.Dropout(0.2),\n",
        "  tf.keras.layers.Dense(10)\n",
        "])"
      ],
      "execution_count": 5,
      "outputs": []
    },
    {
      "cell_type": "markdown",
      "metadata": {
        "id": "l2hiez2eIUz8"
      },
      "source": [
        "For each example the model returns a vector of \"[logits](https://developers.google.com/machine-learning/glossary#logits)\" or \"[log-odds](https://developers.google.com/machine-learning/glossary#log-odds)\" scores, one for each class."
      ]
    },
    {
      "cell_type": "code",
      "metadata": {
        "id": "OeOrNdnkEEcR",
        "colab": {
          "base_uri": "https://localhost:8080/"
        },
        "outputId": "7f185009-7d19-48a8-ceb5-db87b54c3a2b"
      },
      "source": [
        "predictions = model(x_train[:1]).numpy()\n",
        "predictions"
      ],
      "execution_count": 6,
      "outputs": [
        {
          "output_type": "execute_result",
          "data": {
            "text/plain": [
              "array([[ 0.42671522,  0.05397483,  0.05025768, -0.23283583,  0.19140692,\n",
              "         0.20172037, -0.5711364 , -0.24349491, -0.20750986,  0.4980408 ]],\n",
              "      dtype=float32)"
            ]
          },
          "metadata": {
            "tags": []
          },
          "execution_count": 6
        }
      ]
    },
    {
      "cell_type": "markdown",
      "metadata": {
        "id": "tgjhDQGcIniO"
      },
      "source": [
        "The `tf.nn.softmax` function converts these logits to \"probabilities\" for each class: "
      ]
    },
    {
      "cell_type": "code",
      "metadata": {
        "id": "zWSRnQ0WI5eq",
        "colab": {
          "base_uri": "https://localhost:8080/"
        },
        "outputId": "bf6de855-81b6-4baf-cd08-173015b13b37"
      },
      "source": [
        "tf.nn.softmax(predictions).numpy()"
      ],
      "execution_count": 7,
      "outputs": [
        {
          "output_type": "execute_result",
          "data": {
            "text/plain": [
              "array([[0.1435624 , 0.09889212, 0.0985252 , 0.07423375, 0.11346127,\n",
              "        0.1146375 , 0.05292725, 0.07344668, 0.0761378 , 0.1541761 ]],\n",
              "      dtype=float32)"
            ]
          },
          "metadata": {
            "tags": []
          },
          "execution_count": 7
        }
      ]
    },
    {
      "cell_type": "markdown",
      "metadata": {
        "id": "he5u_okAYS4a"
      },
      "source": [
        "Note: It is possible to bake this `tf.nn.softmax` in as the activation function for the last layer of the network. While this can make the model output more directly interpretable, this approach is discouraged as it's impossible to\n",
        "provide an exact and numerically stable loss calculation for all models when using a softmax output. "
      ]
    },
    {
      "cell_type": "markdown",
      "metadata": {
        "id": "hQyugpgRIyrA"
      },
      "source": [
        "The `losses.SparseCategoricalCrossentropy` loss takes a vector of logits and a `True` index and returns a scalar loss for each example."
      ]
    },
    {
      "cell_type": "code",
      "metadata": {
        "id": "RSkzdv8MD0tT"
      },
      "source": [
        "loss_fn = tf.keras.losses.SparseCategoricalCrossentropy(from_logits=True)"
      ],
      "execution_count": 8,
      "outputs": []
    },
    {
      "cell_type": "markdown",
      "metadata": {
        "id": "SfR4MsSDU880"
      },
      "source": [
        "This loss is equal to the negative log probability of the true class:\n",
        "It is zero if the model is sure of the correct class.\n",
        "\n",
        "This untrained model gives probabilities close to random (1/10 for each class), so the initial loss should be close to `-tf.log(1/10) ~= 2.3`."
      ]
    },
    {
      "cell_type": "code",
      "metadata": {
        "id": "NJWqEVrrJ7ZB",
        "colab": {
          "base_uri": "https://localhost:8080/"
        },
        "outputId": "bc0319d3-6945-417d-d9bd-ac1d57fb2595"
      },
      "source": [
        "loss_fn(y_train[:1], predictions).numpy()"
      ],
      "execution_count": 9,
      "outputs": [
        {
          "output_type": "execute_result",
          "data": {
            "text/plain": [
              "2.1659803"
            ]
          },
          "metadata": {
            "tags": []
          },
          "execution_count": 9
        }
      ]
    },
    {
      "cell_type": "code",
      "metadata": {
        "id": "9foNKHzTD2Vo"
      },
      "source": [
        "model.compile(optimizer='adam',\n",
        "              loss=loss_fn,\n",
        "              metrics=['accuracy'])"
      ],
      "execution_count": 10,
      "outputs": []
    },
    {
      "cell_type": "markdown",
      "metadata": {
        "id": "ix4mEL65on-w"
      },
      "source": [
        "The `Model.fit` method adjusts the model parameters to minimize the loss: "
      ]
    },
    {
      "cell_type": "code",
      "metadata": {
        "id": "y7suUbJXVLqP",
        "colab": {
          "base_uri": "https://localhost:8080/"
        },
        "outputId": "a69ff1f0-e6d0-4601-8e78-56886d6f77c2"
      },
      "source": [
        "model.fit(x_train, y_train, epochs=5)"
      ],
      "execution_count": 11,
      "outputs": [
        {
          "output_type": "stream",
          "text": [
            "Epoch 1/5\n",
            "1875/1875 [==============================] - 3s 1ms/step - loss: 0.2938 - accuracy: 0.9143\n",
            "Epoch 2/5\n",
            "1875/1875 [==============================] - 3s 1ms/step - loss: 0.1424 - accuracy: 0.9585\n",
            "Epoch 3/5\n",
            "1875/1875 [==============================] - 3s 1ms/step - loss: 0.1077 - accuracy: 0.9678\n",
            "Epoch 4/5\n",
            "1875/1875 [==============================] - 3s 1ms/step - loss: 0.0883 - accuracy: 0.9726\n",
            "Epoch 5/5\n",
            "1875/1875 [==============================] - 3s 1ms/step - loss: 0.0738 - accuracy: 0.9759\n"
          ],
          "name": "stdout"
        },
        {
          "output_type": "execute_result",
          "data": {
            "text/plain": [
              "<tensorflow.python.keras.callbacks.History at 0x7fda58c585c0>"
            ]
          },
          "metadata": {
            "tags": []
          },
          "execution_count": 11
        }
      ]
    },
    {
      "cell_type": "markdown",
      "metadata": {
        "id": "4mDAAPFqVVgn"
      },
      "source": [
        "The `Model.evaluate` method checks the models performance, usually on a \"[Validation-set](https://developers.google.com/machine-learning/glossary#validation-set)\" or \"[Test-set](https://developers.google.com/machine-learning/glossary#test-set)\"."
      ]
    },
    {
      "cell_type": "code",
      "metadata": {
        "id": "F7dTAzgHDUh7",
        "colab": {
          "base_uri": "https://localhost:8080/"
        },
        "outputId": "cfa7d3ce-7b23-4369-e993-c95e44430fe1"
      },
      "source": [
        "res = model.evaluate(x_test,  y_test, verbose=2)"
      ],
      "execution_count": 12,
      "outputs": [
        {
          "output_type": "stream",
          "text": [
            "313/313 - 0s - loss: 0.0786 - accuracy: 0.9761\n"
          ],
          "name": "stdout"
        }
      ]
    },
    {
      "cell_type": "code",
      "metadata": {
        "id": "qOnU1jEYcSU9",
        "colab": {
          "base_uri": "https://localhost:8080/"
        },
        "outputId": "e93c1120-b019-424c-90e6-2ae4e0fa2f44"
      },
      "source": [
        "predictions = model(x_test)\n",
        "predictions = tf.nn.softmax(predictions)\n",
        "predictions = tf.math.argmax(predictions, axis=1).numpy()\n",
        "comp1 = np.equal(predictions, y_test)\n",
        "\n",
        "orig = 0\n",
        "for i in comp1:\n",
        "    if i:\n",
        "        orig+=1\n",
        "print(f\"Number of samples classified correctly = {orig}\")  "
      ],
      "execution_count": 13,
      "outputs": [
        {
          "output_type": "stream",
          "text": [
            "Number of samples classified correctly = 9761\n"
          ],
          "name": "stdout"
        }
      ]
    },
    {
      "cell_type": "markdown",
      "metadata": {
        "id": "T4JfEh7kvx6m"
      },
      "source": [
        "The image classifier is now trained to ~98% accuracy on this dataset. To learn more, read the [TensorFlow tutorials](https://www.tensorflow.org/tutorials/)."
      ]
    },
    {
      "cell_type": "markdown",
      "metadata": {
        "id": "Aj8NrlzlJqDG"
      },
      "source": [
        "If you want your model to return a probability, you can wrap the trained model, and attach the softmax to it:"
      ]
    },
    {
      "cell_type": "code",
      "metadata": {
        "id": "rYb6DrEH0GMv"
      },
      "source": [
        "probability_model = tf.keras.Sequential([\n",
        "  model,\n",
        "  tf.keras.layers.Softmax()\n",
        "])"
      ],
      "execution_count": 14,
      "outputs": []
    },
    {
      "cell_type": "code",
      "metadata": {
        "id": "cnqOZtUp1YR_",
        "colab": {
          "base_uri": "https://localhost:8080/"
        },
        "outputId": "eb1c5ea8-71a8-44cb-9033-d3a48fb90c58"
      },
      "source": [
        "probability_model(x_test[:5])"
      ],
      "execution_count": 15,
      "outputs": [
        {
          "output_type": "execute_result",
          "data": {
            "text/plain": [
              "<tf.Tensor: shape=(5, 10), dtype=float32, numpy=\n",
              "array([[2.8071498e-11, 4.0838489e-11, 1.5699646e-07, 9.1320571e-06,\n",
              "        3.0077254e-13, 2.9943905e-08, 1.2085041e-14, 9.9999058e-01,\n",
              "        2.9685316e-09, 6.6335446e-08],\n",
              "       [1.1365912e-09, 4.2176498e-06, 9.9998248e-01, 1.3352707e-05,\n",
              "        1.8604250e-16, 9.3441432e-09, 3.1143590e-09, 8.9961277e-15,\n",
              "        6.9544048e-10, 1.3392569e-17],\n",
              "       [5.9652655e-07, 9.9883407e-01, 4.5308265e-05, 1.1473447e-05,\n",
              "        6.2388230e-05, 7.3864567e-07, 1.1485215e-05, 1.0096903e-03,\n",
              "        2.4059595e-05, 1.9997054e-07],\n",
              "       [9.9990547e-01, 4.0933212e-10, 5.6634748e-05, 2.3605881e-07,\n",
              "        7.8420662e-08, 1.7211945e-05, 4.0442906e-06, 1.2796212e-05,\n",
              "        2.3173897e-08, 3.4197787e-06],\n",
              "       [3.0533668e-06, 8.3445623e-10, 2.0260713e-05, 1.4391137e-08,\n",
              "        9.9568224e-01, 1.2827153e-06, 6.4109190e-07, 1.4776895e-04,\n",
              "        4.8512942e-07, 4.1442015e-03]], dtype=float32)>"
            ]
          },
          "metadata": {
            "tags": []
          },
          "execution_count": 15
        }
      ]
    },
    {
      "cell_type": "markdown",
      "metadata": {
        "id": "TKlf7I588_Sd"
      },
      "source": [
        "•\tFGSM based untargeted attacks"
      ]
    },
    {
      "cell_type": "code",
      "metadata": {
        "id": "3-7ePKMkzr9O"
      },
      "source": [
        "x_tensor = tf.convert_to_tensor(x_test, dtype=tf.float32)\n",
        "with tf.GradientTape() as tape:\n",
        "    tape.watch(x_tensor)\n",
        "    output = model(x_tensor)\n",
        "    loss_grad = loss_fn(y_test, output)\n",
        "\n",
        "gradients = tape.gradient(loss_grad, x_tensor)\n",
        "gradients_sign = tf.sign(gradients) \n",
        "\n",
        "epsilons = [1/255, 5/255, 10/255, 20/255, 30/255, 40/255, 50/255]\n",
        "x_primes_u = []\n",
        "for epsilon in epsilons:\n",
        "    x_primes_u.append(tf.clip_by_value((x_tensor + epsilon*gradients_sign), clip_value_min=0.0, clip_value_max=1.0))  \n",
        "\n",
        "y_preds = []\n",
        "for i in range(len(epsilons)):\n",
        "    predictions = model(x_primes_u[i]).numpy()\n",
        "    probs = tf.nn.softmax(predictions)\n",
        "    y_preds.append(tf.math.argmax(probs, axis=1).numpy()) "
      ],
      "execution_count": 16,
      "outputs": []
    },
    {
      "cell_type": "code",
      "metadata": {
        "id": "cRQ_GpjIb1Gq",
        "colab": {
          "base_uri": "https://localhost:8080/"
        },
        "outputId": "50e3b205-4b4b-47d4-8a2b-cc3be55e48ab"
      },
      "source": [
        "for p in range(7):\n",
        "    count = 0\n",
        "    for i in range(len(y_test)):\n",
        "        if comp1[i]==True:\n",
        "            if y_test[i]!=y_preds[p][i]:\n",
        "                count+=1\n",
        "    print(f\"Epsilon = {epsilons[p]*255}, success rate of attack = {round((count/orig)*100,2)}%\" )"
      ],
      "execution_count": 17,
      "outputs": [
        {
          "output_type": "stream",
          "text": [
            "Epsilon = 1.0, success rate of attack = 0.64%\n",
            "Epsilon = 5.0, success rate of attack = 4.94%\n",
            "Epsilon = 10.0, success rate of attack = 17.94%\n",
            "Epsilon = 20.0, success rate of attack = 62.03%\n",
            "Epsilon = 30.0, success rate of attack = 84.84%\n",
            "Epsilon = 40.0, success rate of attack = 94.22%\n",
            "Epsilon = 50.0, success rate of attack = 97.53%\n"
          ],
          "name": "stdout"
        }
      ]
    },
    {
      "cell_type": "markdown",
      "metadata": {
        "id": "trfjJWnTRGPc"
      },
      "source": [
        "• FGSM based targeted attacks"
      ]
    },
    {
      "cell_type": "code",
      "metadata": {
        "id": "9m6zFq0RRIdd"
      },
      "source": [
        "y_test_mod = []\n",
        "for i in y_test:\n",
        "    y_test_mod.append((i+1)%10)\n",
        "\n",
        "x_tensor = tf.convert_to_tensor(x_test, dtype=tf.float32)\n",
        "with tf.GradientTape() as tape:\n",
        "    tape.watch(x_tensor)\n",
        "    output = model(x_tensor)\n",
        "    loss_grad = loss_fn(y_test_mod, output)\n",
        "\n",
        "gradients = tape.gradient(loss_grad, x_tensor)\n",
        "gradients_sign = tf.sign(gradients) \n",
        "\n",
        "epsilons = [1/255, 5/255, 10/255, 20/255, 30/255, 40/255, 50/255]\n",
        "x_primes_t = []\n",
        "for epsilon in epsilons:\n",
        "    x_primes_t.append(tf.clip_by_value((x_tensor - epsilon*gradients_sign), clip_value_min=0.0, clip_value_max=1.0))  \n",
        "\n",
        "y_preds = []\n",
        "for i in range(len(epsilons)):\n",
        "    predictions = model(x_primes_t[i])\n",
        "    probs = tf.nn.softmax(predictions)\n",
        "    y_preds.append(tf.math.argmax(probs, axis=1).numpy())  "
      ],
      "execution_count": 18,
      "outputs": []
    },
    {
      "cell_type": "code",
      "metadata": {
        "id": "CZ6OEwUjiB5W",
        "colab": {
          "base_uri": "https://localhost:8080/"
        },
        "outputId": "2699f4ab-487d-4e08-8a36-8c8d2537ced0"
      },
      "source": [
        "for p in range(7):\n",
        "    count = 0\n",
        "    for i in range(len(y_test)):\n",
        "        if comp1[i]==True:\n",
        "            if y_test[i]+1==y_preds[p][i]:\n",
        "                count+=1\n",
        "    print(f\"Epsilon = {epsilons[p]*255}, success rate of attack = {round((count/orig)*100,2)}%\" )"
      ],
      "execution_count": 19,
      "outputs": [
        {
          "output_type": "stream",
          "text": [
            "Epsilon = 1.0, success rate of attack = 0.02%\n",
            "Epsilon = 5.0, success rate of attack = 0.41%\n",
            "Epsilon = 10.0, success rate of attack = 2.22%\n",
            "Epsilon = 20.0, success rate of attack = 21.69%\n",
            "Epsilon = 30.0, success rate of attack = 35.89%\n",
            "Epsilon = 40.0, success rate of attack = 47.81%\n",
            "Epsilon = 50.0, success rate of attack = 54.38%\n"
          ],
          "name": "stdout"
        }
      ]
    },
    {
      "cell_type": "markdown",
      "metadata": {
        "id": "4fmwaBcfcMuO"
      },
      "source": [
        "•\tAdversarial Retraining against Untargeted FGSM Attacks"
      ]
    },
    {
      "cell_type": "code",
      "metadata": {
        "id": "iaVscnlOcNUH"
      },
      "source": [
        "x_tensor = tf.convert_to_tensor(x_train, dtype=tf.float32)\n",
        "with tf.GradientTape() as tape:\n",
        "    tape.watch(x_tensor)\n",
        "    output = model(x_tensor)\n",
        "    loss_grad = loss_fn(y_train, output)\n",
        "\n",
        "gradients = tape.gradient(loss_grad, x_tensor)\n",
        "gradients_sign = tf.sign(gradients) \n",
        "\n",
        "epsilons = [10/255]\n",
        "x_primes = []\n",
        "for epsilon in epsilons:\n",
        "    x_primes.append(tf.clip_by_value((x_tensor + epsilon*gradients_sign), clip_value_min=0.0, clip_value_max=1.0))  "
      ],
      "execution_count": 20,
      "outputs": []
    },
    {
      "cell_type": "markdown",
      "metadata": {
        "id": "JiFFDzJ1T3co"
      },
      "source": [
        "Combining original training data and perturbed training data"
      ]
    },
    {
      "cell_type": "code",
      "metadata": {
        "id": "zP4q7d27esAD"
      },
      "source": [
        "x_train_mod = np.concatenate((x_train, x_primes[0]), axis=0)\n",
        "y_train_mod = np.concatenate((y_train, y_train), axis=0)"
      ],
      "execution_count": 21,
      "outputs": []
    },
    {
      "cell_type": "markdown",
      "metadata": {
        "id": "FDYjxM9wjgF0"
      },
      "source": [
        "Retraining the baseline DNN with a new training dataset containing both images from the original training dataset and the new adversarially perturbed images."
      ]
    },
    {
      "cell_type": "code",
      "metadata": {
        "id": "2bi2CxvRncfQ"
      },
      "source": [
        "model2 = tf.keras.models.Sequential([\n",
        "  tf.keras.layers.Flatten(input_shape=(28, 28)),\n",
        "  tf.keras.layers.Dense(128, activation='relu'),\n",
        "  tf.keras.layers.Dropout(0.2),\n",
        "  tf.keras.layers.Dense(10)\n",
        "])"
      ],
      "execution_count": 22,
      "outputs": []
    },
    {
      "cell_type": "markdown",
      "metadata": {
        "id": "gzNig72QW-Ub"
      },
      "source": [
        "Training a new model for the new training data"
      ]
    },
    {
      "cell_type": "code",
      "metadata": {
        "id": "jdX9tBG5flDD",
        "colab": {
          "base_uri": "https://localhost:8080/"
        },
        "outputId": "6bc5331d-8927-47b5-c0b9-daf47bcfd4fd"
      },
      "source": [
        "model2.compile(optimizer='adam', loss=loss_fn, metrics=['accuracy'])\n",
        "model2.fit(x_train_mod, y_train_mod, epochs=5)"
      ],
      "execution_count": 23,
      "outputs": [
        {
          "output_type": "stream",
          "text": [
            "Epoch 1/5\n",
            "3750/3750 [==============================] - 6s 2ms/step - loss: 0.2002 - accuracy: 0.9421\n",
            "Epoch 2/5\n",
            "3750/3750 [==============================] - 6s 2ms/step - loss: 0.0787 - accuracy: 0.9757\n",
            "Epoch 3/5\n",
            "3750/3750 [==============================] - 5s 1ms/step - loss: 0.0567 - accuracy: 0.9823\n",
            "Epoch 4/5\n",
            "3750/3750 [==============================] - 6s 1ms/step - loss: 0.0462 - accuracy: 0.9850\n",
            "Epoch 5/5\n",
            "3750/3750 [==============================] - 6s 1ms/step - loss: 0.0407 - accuracy: 0.9866\n"
          ],
          "name": "stdout"
        },
        {
          "output_type": "execute_result",
          "data": {
            "text/plain": [
              "<tensorflow.python.keras.callbacks.History at 0x7fda55cbbe48>"
            ]
          },
          "metadata": {
            "tags": []
          },
          "execution_count": 23
        }
      ]
    },
    {
      "cell_type": "markdown",
      "metadata": {
        "id": "eF2H4JsijT9S"
      },
      "source": [
        "Classification accuracy of the adversarially retrained DNN on the original test dataset that contains only clean inputs."
      ]
    },
    {
      "cell_type": "code",
      "metadata": {
        "id": "Oki-2-iWix8c",
        "colab": {
          "base_uri": "https://localhost:8080/"
        },
        "outputId": "9ab040a6-dd21-4f0f-9222-252da1ea4291"
      },
      "source": [
        "model2.evaluate(x_test,  y_test, verbose=2)"
      ],
      "execution_count": 24,
      "outputs": [
        {
          "output_type": "stream",
          "text": [
            "313/313 - 0s - loss: 0.0839 - accuracy: 0.9760\n"
          ],
          "name": "stdout"
        },
        {
          "output_type": "execute_result",
          "data": {
            "text/plain": [
              "[0.08385971933603287, 0.9760000109672546]"
            ]
          },
          "metadata": {
            "tags": []
          },
          "execution_count": 24
        }
      ]
    },
    {
      "cell_type": "code",
      "metadata": {
        "id": "dWrfdpz4jlsX",
        "colab": {
          "base_uri": "https://localhost:8080/"
        },
        "outputId": "032ad87c-c9a1-49dc-ebec-b6682a41401a"
      },
      "source": [
        "predictions = model2(x_test)\n",
        "predictions = tf.nn.softmax(predictions)\n",
        "predictions = tf.math.argmax(predictions, axis=1).numpy()\n",
        "comp1 = np.equal(predictions, y_test)\n",
        "\n",
        "orig = 0\n",
        "for i in comp1:\n",
        "    if i:\n",
        "        orig+=1\n",
        "print(f\"Number of samples classified correctly = {orig}\")  "
      ],
      "execution_count": 25,
      "outputs": [
        {
          "output_type": "stream",
          "text": [
            "Number of samples classified correctly = 9760\n"
          ],
          "name": "stdout"
        }
      ]
    },
    {
      "cell_type": "markdown",
      "metadata": {
        "id": "t59rOfVaUyTN"
      },
      "source": [
        "FGSM based untargeted attacks using images from the clean test set on the adversarially retrained DNN. "
      ]
    },
    {
      "cell_type": "code",
      "metadata": {
        "id": "3azd80cdjM1O"
      },
      "source": [
        "x_tensor = tf.convert_to_tensor(x_test, dtype=tf.float32)\n",
        "with tf.GradientTape() as tape:\n",
        "    tape.watch(x_tensor)\n",
        "    output = model2(x_tensor)\n",
        "    loss_grad = loss_fn(y_test, output)\n",
        "\n",
        "gradients = tape.gradient(loss_grad, x_tensor)\n",
        "gradients_sign = tf.sign(gradients) \n",
        "\n",
        "epsilons = [10/255]\n",
        "x_primes = []\n",
        "for epsilon in epsilons:\n",
        "    x_primes.append(tf.clip_by_value((x_tensor + epsilon*gradients_sign), clip_value_min=0.0, clip_value_max=1.0))  \n",
        "\n",
        "y_preds = []\n",
        "for i in range(len(epsilons)):\n",
        "    predictions = model2(x_primes[i]).numpy()\n",
        "    probs = tf.nn.softmax(predictions)\n",
        "    y_preds.append(tf.math.argmax(probs, axis=1).numpy())  "
      ],
      "execution_count": 31,
      "outputs": []
    },
    {
      "cell_type": "code",
      "metadata": {
        "id": "XwHizsNxjE7X",
        "colab": {
          "base_uri": "https://localhost:8080/"
        },
        "outputId": "383ed595-167e-41b8-be46-d9a65158c34e"
      },
      "source": [
        "for p in range(len(epsilons)):\n",
        "    count = 0\n",
        "    for i in range(len(y_test)):\n",
        "        if comp1[i]==True:\n",
        "            if y_test[i]!=y_preds[p][i]:\n",
        "                count+=1\n",
        "    print(f\"Epsilon = {epsilons[p]*255}, success rate of attack = {round((count/orig)*100,2)}%\" )"
      ],
      "execution_count": 32,
      "outputs": [
        {
          "output_type": "stream",
          "text": [
            "Epsilon = 10.0, success rate of attack = 79.9%\n"
          ],
          "name": "stdout"
        }
      ]
    },
    {
      "cell_type": "markdown",
      "metadata": {
        "id": "GlK0r0wnWeW3"
      },
      "source": [
        "•\tIs the adversarially retrained DNN robust against adversarial perturbations? \n",
        "Answer: No, the adversarially retrained DNN was still susceptible to untargetted FSGM attacks."
      ]
    },
    {
      "cell_type": "code",
      "metadata": {
        "id": "jii-TOiKkIjz"
      },
      "source": [
        ""
      ],
      "execution_count": 27,
      "outputs": []
    }
  ]
}